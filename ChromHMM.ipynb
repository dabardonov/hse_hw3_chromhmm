{
  "nbformat": 4,
  "nbformat_minor": 0,
  "metadata": {
    "colab": {
      "name": "ChromHMM.ipynb",
      "provenance": [],
      "include_colab_link": true
    },
    "kernelspec": {
      "name": "python3",
      "display_name": "Python 3"
    },
    "language_info": {
      "name": "python"
    }
  },
  "cells": [
    {
      "cell_type": "markdown",
      "metadata": {
        "id": "view-in-github",
        "colab_type": "text"
      },
      "source": [
        "<a href=\"https://colab.research.google.com/github/dabardonov/hse_hw3_chromhmm/blob/main/ChromHMM.ipynb\" target=\"_parent\"><img src=\"https://colab.research.google.com/assets/colab-badge.svg\" alt=\"Open In Colab\"/></a>"
      ]
    },
    {
      "cell_type": "markdown",
      "source": [
        "# Устанавливаем java и ChromHmm"
      ],
      "metadata": {
        "id": "vRciyzvPEDLD"
      }
    },
    {
      "cell_type": "code",
      "source": [
        "!curl -O https://raw.githubusercontent.com/deepjavalibrary/d2l-java/master/tools/fix-colab-gpu.sh && bash fix-colab-gpu.sh"
      ],
      "metadata": {
        "colab": {
          "base_uri": "https://localhost:8080/"
        },
        "id": "1O3GJ3Gys7Tm",
        "outputId": "30dc3286-f0ec-40be-8f60-fa3560aab25d"
      },
      "execution_count": 1,
      "outputs": [
        {
          "output_type": "stream",
          "name": "stdout",
          "text": [
            "  % Total    % Received % Xferd  Average Speed   Time    Time     Time  Current\n",
            "                                 Dload  Upload   Total   Spent    Left  Speed\n",
            "\r  0     0    0     0    0     0      0      0 --:--:-- --:--:-- --:--:--     0\r100   155  100   155    0     0   1006      0 --:--:-- --:--:-- --:--:--  1006\r100   155  100   155    0     0   1006      0 --:--:-- --:--:-- --:--:--  1000\n",
            "nvcc: NVIDIA (R) Cuda compiler driver\n",
            "Copyright (c) 2005-2019 NVIDIA Corporation\n",
            "Built on Sun_Jul_28_19:07:16_PDT_2019\n",
            "Cuda compilation tools, release 10.1, V10.1.243\n"
          ]
        }
      ]
    },
    {
      "cell_type": "code",
      "execution_count": 2,
      "metadata": {
        "colab": {
          "base_uri": "https://localhost:8080/"
        },
        "id": "NxS1Mv5WquOV",
        "outputId": "b56d150f-767d-4b32-bc91-966de7aac2d1"
      },
      "outputs": [
        {
          "output_type": "stream",
          "name": "stdout",
          "text": [
            "  % Total    % Received % Xferd  Average Speed   Time    Time     Time  Current\n",
            "                                 Dload  Upload   Total   Spent    Left  Speed\n",
            "\r  0     0    0     0    0     0      0      0 --:--:-- --:--:-- --:--:--     0\r100   520  100   520    0     0   4193      0 --:--:-- --:--:-- --:--:--  4160\r100   520  100   520    0     0   4193      0 --:--:-- --:--:-- --:--:--  4160\n",
            "Update environment...\n",
            "Install Java...\n",
            "Install Jupyter java kernel...\n"
          ]
        }
      ],
      "source": [
        "!curl -O https://raw.githubusercontent.com/deepjavalibrary/d2l-java/master/tools/colab_build.sh && bash colab_build.sh"
      ]
    },
    {
      "cell_type": "code",
      "source": [
        "!java --list-modules | grep \"jdk.jshell\""
      ],
      "metadata": {
        "colab": {
          "base_uri": "https://localhost:8080/"
        },
        "id": "_NrPS924rQFX",
        "outputId": "0538a23d-7b6a-4471-9d46-66b3a4e2d8ea"
      },
      "execution_count": 3,
      "outputs": [
        {
          "output_type": "stream",
          "name": "stdout",
          "text": [
            "jdk.jshell@11.0.14\n"
          ]
        }
      ]
    },
    {
      "cell_type": "code",
      "source": [
        "! wget http://compbio.mit.edu/ChromHMM/ChromHMM.zip"
      ],
      "metadata": {
        "colab": {
          "base_uri": "https://localhost:8080/"
        },
        "id": "zCdYYvCJrpRt",
        "outputId": "90035a57-5425-4ecb-c277-ba4d6c77f319"
      },
      "execution_count": 4,
      "outputs": [
        {
          "output_type": "stream",
          "name": "stdout",
          "text": [
            "--2022-03-11 20:52:20--  http://compbio.mit.edu/ChromHMM/ChromHMM.zip\n",
            "Resolving compbio.mit.edu (compbio.mit.edu)... 128.30.2.44\n",
            "Connecting to compbio.mit.edu (compbio.mit.edu)|128.30.2.44|:80... connected.\n",
            "HTTP request sent, awaiting response... 200 OK\n",
            "Length: 42396742 (40M) [application/zip]\n",
            "Saving to: ‘ChromHMM.zip’\n",
            "\n",
            "ChromHMM.zip        100%[===================>]  40.43M  10.5MB/s    in 4.0s    \n",
            "\n",
            "2022-03-11 20:52:24 (10.1 MB/s) - ‘ChromHMM.zip’ saved [42396742/42396742]\n",
            "\n"
          ]
        }
      ]
    },
    {
      "cell_type": "code",
      "source": [
        "!unzip /content/ChromHMM.zip"
      ],
      "metadata": {
        "id": "gF4uI2bvvEN2",
        "colab": {
          "base_uri": "https://localhost:8080/"
        },
        "outputId": "044c2feb-d728-4bf0-ed3c-69ef64c52059"
      },
      "execution_count": 5,
      "outputs": [
        {
          "output_type": "stream",
          "name": "stdout",
          "text": [
            "Archive:  /content/ChromHMM.zip\n",
            "   creating: ChromHMM/ANCHORFILES/\n",
            "   creating: ChromHMM/ANCHORFILES/ce10/\n",
            "  inflating: ChromHMM/ANCHORFILES/ce10/RefSeqTES.ce10.txt.gz  \n",
            "  inflating: ChromHMM/ANCHORFILES/ce10/RefSeqTSS.ce10.txt.gz  \n",
            "   creating: ChromHMM/ANCHORFILES/ce11/\n",
            "  inflating: ChromHMM/ANCHORFILES/ce11/RefSeqTES.ce11.txt.gz  \n",
            "  inflating: ChromHMM/ANCHORFILES/ce11/RefSeqTSS.ce11.txt.gz  \n",
            "   creating: ChromHMM/ANCHORFILES/ce6/\n",
            "  inflating: ChromHMM/ANCHORFILES/ce6/RefSeqTES.ce6.txt.gz  \n",
            "  inflating: ChromHMM/ANCHORFILES/ce6/RefSeqTSS.ce6.txt.gz  \n",
            "   creating: ChromHMM/ANCHORFILES/danRer10/\n",
            "  inflating: ChromHMM/ANCHORFILES/danRer10/RefSeqTES.danRer10.txt.gz  \n",
            "  inflating: ChromHMM/ANCHORFILES/danRer10/RefSeqTSS.danRer10.txt.gz  \n",
            "   creating: ChromHMM/ANCHORFILES/danRer11/\n",
            "  inflating: ChromHMM/ANCHORFILES/danRer11/RefSeqTES.danRer11.txt.gz  \n",
            "  inflating: ChromHMM/ANCHORFILES/danRer11/RefSeqTSS.danRer11.txt.gz  \n",
            "   creating: ChromHMM/ANCHORFILES/danRer7/\n",
            "  inflating: ChromHMM/ANCHORFILES/danRer7/RefSeqTES.danRer7.txt.gz  \n",
            "  inflating: ChromHMM/ANCHORFILES/danRer7/RefSeqTSS.danRer7.txt.gz  \n",
            "   creating: ChromHMM/ANCHORFILES/dm3/\n",
            "  inflating: ChromHMM/ANCHORFILES/dm3/RefSeqTES.dm3.txt.gz  \n",
            "  inflating: ChromHMM/ANCHORFILES/dm3/RefSeqTSS.dm3.txt.gz  \n",
            "   creating: ChromHMM/ANCHORFILES/dm6/\n",
            "  inflating: ChromHMM/ANCHORFILES/dm6/RefSeqTES.dm6.txt.gz  \n",
            "  inflating: ChromHMM/ANCHORFILES/dm6/RefSeqTSS.dm6.txt.gz  \n",
            "   creating: ChromHMM/ANCHORFILES/hg18/\n",
            "  inflating: ChromHMM/ANCHORFILES/hg18/RefSeqTES.hg18.txt.gz  \n",
            "  inflating: ChromHMM/ANCHORFILES/hg18/RefSeqTSS.hg18.txt.gz  \n",
            "   creating: ChromHMM/ANCHORFILES/hg19/\n",
            "  inflating: ChromHMM/ANCHORFILES/hg19/RefSeqTES.hg19.txt.gz  \n",
            "  inflating: ChromHMM/ANCHORFILES/hg19/RefSeqTSS.hg19.txt.gz  \n",
            "   creating: ChromHMM/ANCHORFILES/hg38/\n",
            "  inflating: ChromHMM/ANCHORFILES/hg38/RefSeqTES.hg38.txt.gz  \n",
            "  inflating: ChromHMM/ANCHORFILES/hg38/RefSeqTSS.hg38.txt.gz  \n",
            "   creating: ChromHMM/ANCHORFILES/mm10/\n",
            "  inflating: ChromHMM/ANCHORFILES/mm10/RefSeqTES.mm10.txt.gz  \n",
            "  inflating: ChromHMM/ANCHORFILES/mm10/RefSeqTSS.mm10.txt.gz  \n",
            "   creating: ChromHMM/ANCHORFILES/mm9/\n",
            "  inflating: ChromHMM/ANCHORFILES/mm9/RefSeqTES.mm9.txt.gz  \n",
            "  inflating: ChromHMM/ANCHORFILES/mm9/RefSeqTSS.mm9.txt.gz  \n",
            "   creating: ChromHMM/ANCHORFILES/rn5/\n",
            "  inflating: ChromHMM/ANCHORFILES/rn5/RefSeqTES.rn5.txt.gz  \n",
            "  inflating: ChromHMM/ANCHORFILES/rn5/RefSeqTSS.rn5.txt.gz  \n",
            "   creating: ChromHMM/ANCHORFILES/rn6/\n",
            "  inflating: ChromHMM/ANCHORFILES/rn6/RefSeqTES.rn6.txt.gz  \n",
            "  inflating: ChromHMM/ANCHORFILES/rn6/RefSeqTSS.rn6.txt.gz  \n",
            "  inflating: ChromHMM/ChromHMM.jar   \n",
            "  inflating: ChromHMM/ChromHMM_manual.pdf  \n",
            "   creating: ChromHMM/CHROMSIZES/\n",
            "  inflating: ChromHMM/CHROMSIZES/ce10.txt  \n",
            "  inflating: ChromHMM/CHROMSIZES/ce11.txt  \n",
            "  inflating: ChromHMM/CHROMSIZES/ce6.txt  \n",
            "  inflating: ChromHMM/CHROMSIZES/danRer10.txt  \n",
            "  inflating: ChromHMM/CHROMSIZES/danRer11.txt  \n",
            "  inflating: ChromHMM/CHROMSIZES/danRer7.txt  \n",
            "  inflating: ChromHMM/CHROMSIZES/dm3.txt  \n",
            "  inflating: ChromHMM/CHROMSIZES/dm6.txt  \n",
            "  inflating: ChromHMM/CHROMSIZES/hg18.txt  \n",
            "  inflating: ChromHMM/CHROMSIZES/hg19.txt  \n",
            "  inflating: ChromHMM/CHROMSIZES/hg38.txt  \n",
            "  inflating: ChromHMM/CHROMSIZES/mm10.txt  \n",
            "  inflating: ChromHMM/CHROMSIZES/mm9.txt  \n",
            "  inflating: ChromHMM/CHROMSIZES/rn5.txt  \n",
            "  inflating: ChromHMM/CHROMSIZES/rn6.txt  \n",
            "   creating: ChromHMM/COORDS/\n",
            "   creating: ChromHMM/COORDS/ce10/\n",
            "  inflating: ChromHMM/COORDS/ce10/RefSeqExon.ce10.bed.gz  \n",
            "  inflating: ChromHMM/COORDS/ce10/RefSeqGene.ce10.bed.gz  \n",
            "  inflating: ChromHMM/COORDS/ce10/RefSeqTES.ce10.bed.gz  \n",
            "  inflating: ChromHMM/COORDS/ce10/RefSeqTSS.ce10.bed.gz  \n",
            "  inflating: ChromHMM/COORDS/ce10/RefSeqTSS2kb.ce10.bed.gz  \n",
            "   creating: ChromHMM/COORDS/ce11/\n",
            "  inflating: ChromHMM/COORDS/ce11/RefSeqExon.ce11.bed.gz  \n",
            "  inflating: ChromHMM/COORDS/ce11/RefSeqGene.ce11.bed.gz  \n",
            "  inflating: ChromHMM/COORDS/ce11/RefSeqTES.ce11.bed.gz  \n",
            "  inflating: ChromHMM/COORDS/ce11/RefSeqTSS.ce11.bed.gz  \n",
            "  inflating: ChromHMM/COORDS/ce11/RefSeqTSS2kb.ce11.bed.gz  \n",
            "   creating: ChromHMM/COORDS/ce6/\n",
            "  inflating: ChromHMM/COORDS/ce6/RefSeqExon.ce6.bed.gz  \n",
            "  inflating: ChromHMM/COORDS/ce6/RefSeqGene.ce6.bed.gz  \n",
            "  inflating: ChromHMM/COORDS/ce6/RefSeqTES.ce6.bed.gz  \n",
            "  inflating: ChromHMM/COORDS/ce6/RefSeqTSS.ce6.bed.gz  \n",
            "  inflating: ChromHMM/COORDS/ce6/RefSeqTSS2kb.ce6.bed.gz  \n",
            "   creating: ChromHMM/COORDS/danRer10/\n",
            "  inflating: ChromHMM/COORDS/danRer10/RefSeqExon.danRer10.bed.gz  \n",
            "  inflating: ChromHMM/COORDS/danRer10/RefSeqGene.danRer10.bed.gz  \n",
            "  inflating: ChromHMM/COORDS/danRer10/RefSeqTES.danRer10.bed.gz  \n",
            "  inflating: ChromHMM/COORDS/danRer10/RefSeqTSS.danRer10.bed.gz  \n",
            "  inflating: ChromHMM/COORDS/danRer10/RefSeqTSS2kb.danRer10.bed.gz  \n",
            "   creating: ChromHMM/COORDS/danRer11/\n",
            "  inflating: ChromHMM/COORDS/danRer11/RefSeqExon.danRer11.bed.gz  \n",
            "  inflating: ChromHMM/COORDS/danRer11/RefSeqGene.danRer11.bed.gz  \n",
            "  inflating: ChromHMM/COORDS/danRer11/RefSeqTES.danRer11.bed.gz  \n",
            "  inflating: ChromHMM/COORDS/danRer11/RefSeqTSS.danRer11.bed.gz  \n",
            "  inflating: ChromHMM/COORDS/danRer11/RefSeqTSS2kb.danRer11.bed.gz  \n",
            "   creating: ChromHMM/COORDS/danRer7/\n",
            "  inflating: ChromHMM/COORDS/danRer7/RefSeqExon.danRer7.bed.gz  \n",
            "  inflating: ChromHMM/COORDS/danRer7/RefSeqGene.danRer7.bed.gz  \n",
            "  inflating: ChromHMM/COORDS/danRer7/RefSeqTES.danRer7.bed.gz  \n",
            "  inflating: ChromHMM/COORDS/danRer7/RefSeqTSS.danRer7.bed.gz  \n",
            "  inflating: ChromHMM/COORDS/danRer7/RefSeqTSS2kb.danRer7.bed.gz  \n",
            "   creating: ChromHMM/COORDS/dm3/\n",
            "  inflating: ChromHMM/COORDS/dm3/RefSeqExon.dm3.bed.gz  \n",
            "  inflating: ChromHMM/COORDS/dm3/RefSeqGene.dm3.bed.gz  \n",
            "  inflating: ChromHMM/COORDS/dm3/RefSeqTES.dm3.bed.gz  \n",
            "  inflating: ChromHMM/COORDS/dm3/RefSeqTSS.dm3.bed.gz  \n",
            "  inflating: ChromHMM/COORDS/dm3/RefSeqTSS2kb.dm3.bed.gz  \n",
            "   creating: ChromHMM/COORDS/dm6/\n",
            "  inflating: ChromHMM/COORDS/dm6/RefSeqExon.dm6.bed.gz  \n",
            "  inflating: ChromHMM/COORDS/dm6/RefSeqGene.dm6.bed.gz  \n",
            "  inflating: ChromHMM/COORDS/dm6/RefSeqTES.dm6.bed.gz  \n",
            "  inflating: ChromHMM/COORDS/dm6/RefSeqTSS.dm6.bed.gz  \n",
            "  inflating: ChromHMM/COORDS/dm6/RefSeqTSS2kb.dm6.bed.gz  \n",
            "   creating: ChromHMM/COORDS/hg18/\n",
            "  inflating: ChromHMM/COORDS/hg18/CpGIsland.hg18.bed.gz  \n",
            " extracting: ChromHMM/COORDS/hg18/laminB1lads.hg18.bed.gz  \n",
            "  inflating: ChromHMM/COORDS/hg18/RefSeqExon.hg18.bed.gz  \n",
            "  inflating: ChromHMM/COORDS/hg18/RefSeqGene.hg18.bed.gz  \n",
            "  inflating: ChromHMM/COORDS/hg18/RefSeqTES.hg18.bed.gz  \n",
            "  inflating: ChromHMM/COORDS/hg18/RefSeqTSS.hg18.bed.gz  \n",
            "  inflating: ChromHMM/COORDS/hg18/RefSeqTSS2kb.hg18.bed.gz  \n",
            "   creating: ChromHMM/COORDS/hg19/\n",
            "  inflating: ChromHMM/COORDS/hg19/CpGIsland.hg19.bed.gz  \n",
            " extracting: ChromHMM/COORDS/hg19/laminB1lads.hg19.bed.gz  \n",
            "  inflating: ChromHMM/COORDS/hg19/RefSeqExon.hg19.bed.gz  \n",
            "  inflating: ChromHMM/COORDS/hg19/RefSeqGene.hg19.bed.gz  \n",
            "  inflating: ChromHMM/COORDS/hg19/RefSeqTES.hg19.bed.gz  \n",
            "  inflating: ChromHMM/COORDS/hg19/RefSeqTSS.hg19.bed.gz  \n",
            "  inflating: ChromHMM/COORDS/hg19/RefSeqTSS2kb.hg19.bed.gz  \n",
            "   creating: ChromHMM/COORDS/hg38/\n",
            "  inflating: ChromHMM/COORDS/hg38/CpGIsland.hg38.bed.gz  \n",
            "  inflating: ChromHMM/COORDS/hg38/RefSeqExon.hg38.bed.gz  \n",
            "  inflating: ChromHMM/COORDS/hg38/RefSeqGene.hg38.bed.gz  \n",
            "  inflating: ChromHMM/COORDS/hg38/RefSeqTES.hg38.bed.gz  \n",
            "  inflating: ChromHMM/COORDS/hg38/RefSeqTSS.hg38.bed.gz  \n",
            "  inflating: ChromHMM/COORDS/hg38/RefSeqTSS2kb.hg38.bed.gz  \n",
            "   creating: ChromHMM/COORDS/mm10/\n",
            "  inflating: ChromHMM/COORDS/mm10/CpGIsland.mm10.bed.gz  \n",
            "  inflating: ChromHMM/COORDS/mm10/RefSeqExon.mm10.bed.gz  \n",
            "  inflating: ChromHMM/COORDS/mm10/RefSeqGene.mm10.bed.gz  \n",
            "  inflating: ChromHMM/COORDS/mm10/RefSeqTES.mm10.bed.gz  \n",
            "  inflating: ChromHMM/COORDS/mm10/RefSeqTSS.mm10.bed.gz  \n",
            "  inflating: ChromHMM/COORDS/mm10/RefSeqTSS2kb.mm10.bed.gz  \n",
            "   creating: ChromHMM/COORDS/mm9/\n",
            "  inflating: ChromHMM/COORDS/mm9/CpGIsland.mm9.bed.gz  \n",
            "  inflating: ChromHMM/COORDS/mm9/RefSeqExon.mm9.bed.gz  \n",
            "  inflating: ChromHMM/COORDS/mm9/RefSeqGene.mm9.bed.gz  \n",
            "  inflating: ChromHMM/COORDS/mm9/RefSeqTES.mm9.bed.gz  \n",
            "  inflating: ChromHMM/COORDS/mm9/RefSeqTSS.mm9.bed.gz  \n",
            "  inflating: ChromHMM/COORDS/mm9/RefSeqTSS2kb.mm9.bed.gz  \n",
            "   creating: ChromHMM/COORDS/rn5/\n",
            "  inflating: ChromHMM/COORDS/rn5/CpGIsland.rn5.bed.gz  \n",
            "  inflating: ChromHMM/COORDS/rn5/RefSeqExon.rn5.bed.gz  \n",
            "  inflating: ChromHMM/COORDS/rn5/RefSeqGene.rn5.bed.gz  \n",
            "  inflating: ChromHMM/COORDS/rn5/RefSeqTES.rn5.bed.gz  \n",
            "  inflating: ChromHMM/COORDS/rn5/RefSeqTSS.rn5.bed.gz  \n",
            "  inflating: ChromHMM/COORDS/rn5/RefSeqTSS2kb.rn5.bed.gz  \n",
            "   creating: ChromHMM/COORDS/rn6/\n",
            "  inflating: ChromHMM/COORDS/rn6/CpGIsland.rn6.bed.gz  \n",
            "  inflating: ChromHMM/COORDS/rn6/RefSeqExon.rn6.bed.gz  \n",
            "  inflating: ChromHMM/COORDS/rn6/RefSeqGene.rn6.bed.gz  \n",
            "  inflating: ChromHMM/COORDS/rn6/RefSeqTES.rn6.bed.gz  \n",
            "  inflating: ChromHMM/COORDS/rn6/RefSeqTSS.rn6.bed.gz  \n",
            "  inflating: ChromHMM/COORDS/rn6/RefSeqTSS2kb.rn6.bed.gz  \n",
            "   creating: ChromHMM/SAMPLEDATA_HG18/\n",
            "  inflating: ChromHMM/SAMPLEDATA_HG18/GM12878_chr11_binary.txt.gz  \n",
            "  inflating: ChromHMM/SAMPLEDATA_HG18/K562_chr11_binary.txt.gz  \n",
            "   creating: ChromHMM/SRC/\n",
            "   creating: ChromHMM/SRC/edu/\n",
            "   creating: ChromHMM/SRC/edu/mit/\n",
            "   creating: ChromHMM/SRC/edu/mit/compbio/\n",
            "   creating: ChromHMM/SRC/edu/mit/compbio/ChromHMM/\n",
            "  inflating: ChromHMM/SRC/edu/mit/compbio/ChromHMM/BrowserOutput.java  \n",
            "  inflating: ChromHMM/SRC/edu/mit/compbio/ChromHMM/ChromHMM.java  \n",
            "  inflating: ChromHMM/SRC/edu/mit/compbio/ChromHMM/ConvertGeneTable.java  \n",
            "  inflating: ChromHMM/SRC/edu/mit/compbio/ChromHMM/NestedEliminateInitialize.java  \n",
            "  inflating: ChromHMM/SRC/edu/mit/compbio/ChromHMM/Preprocessing.java  \n",
            "  inflating: ChromHMM/SRC/edu/mit/compbio/ChromHMM/StateAnalysis.java  \n",
            "  inflating: ChromHMM/SRC/edu/mit/compbio/ChromHMM/Util.java  \n",
            "   creating: ChromHMM/SRC/org/\n",
            "   creating: ChromHMM/SRC/org/tc33/\n",
            "   creating: ChromHMM/SRC/org/tc33/jheatchart/\n",
            "  inflating: ChromHMM/SRC/org/tc33/jheatchart/HeatChart.java  \n"
          ]
        }
      ]
    },
    {
      "cell_type": "markdown",
      "source": [
        "# Скачиваем файлы"
      ],
      "metadata": {
        "id": "k80uGrS5quq1"
      }
    },
    {
      "cell_type": "code",
      "source": [
        "! wget http://hgdownload.cse.ucsc.edu/goldenPath/hg19/encodeDCC/wgEncodeBroadHistone/wgEncodeBroadHistoneA549ControlDex100nmAlnRep1.bam -O Control.bam\n",
        "! wget http://hgdownload.cse.ucsc.edu/goldenPath/hg19/encodeDCC/wgEncodeBroadHistone/wgEncodeBroadHistoneA549H2azDex100nmAlnRep1.bam -O H2AZ.bam\n",
        "! wget http://hgdownload.cse.ucsc.edu/goldenPath/hg19/encodeDCC/wgEncodeBroadHistone/wgEncodeBroadHistoneA549H3k04me1Dex100nmAlnRep1.bam -O H3k04me1.bam\n",
        "! wget http://hgdownload.cse.ucsc.edu/goldenPath/hg19/encodeDCC/wgEncodeBroadHistone/wgEncodeBroadHistoneA549H3k04me2Dex100nmAlnRep1.bam -O H3k04me2.bam\n",
        "! wget http://hgdownload.cse.ucsc.edu/goldenPath/hg19/encodeDCC/wgEncodeBroadHistone/wgEncodeBroadHistoneA549H3k04me3Dex100nmAlnRep1.bam -O H3k04me3.bam\n",
        "! wget http://hgdownload.cse.ucsc.edu/goldenPath/hg19/encodeDCC/wgEncodeBroadHistone/wgEncodeBroadHistoneA549H3k09acEtoh02AlnRep1.bam -O H3k09ac.bam\n",
        "! wget http://hgdownload.cse.ucsc.edu/goldenPath/hg19/encodeDCC/wgEncodeBroadHistone/wgEncodeBroadHistoneA549H3k09me3Etoh02AlnRep1.bam -O H3k09me3.bam\n",
        "! wget http://hgdownload.cse.ucsc.edu/goldenPath/hg19/encodeDCC/wgEncodeBroadHistone/wgEncodeBroadHistoneA549H3k27acDex100nmAlnRep1.bam -O H3k27ac.bam\n",
        "! wget http://hgdownload.cse.ucsc.edu/goldenPath/hg19/encodeDCC/wgEncodeBroadHistone/wgEncodeBroadHistoneA549H3k27me3Dex100nmAlnRep1.bam -O H3k27me3.bam\n",
        "! wget http://hgdownload.cse.ucsc.edu/goldenPath/hg19/encodeDCC/wgEncodeBroadHistone/wgEncodeBroadHistoneA549H3k36me3Dex100nmAlnRep1.bam -O H3k36me3.bam\n",
        "! wget http://hgdownload.cse.ucsc.edu/goldenPath/hg19/encodeDCC/wgEncodeBroadHistone/wgEncodeBroadHistoneA549H3k79me2Dex100nmAlnRep1.bam -O H3k79me2.bam\n",
        "! wget http://hgdownload.cse.ucsc.edu/goldenPath/hg19/encodeDCC/wgEncodeBroadHistone/wgEncodeBroadHistoneA549H4k20me1Etoh02AlnRep1.bam -O H4k20me1.bam"
      ],
      "metadata": {
        "id": "PSWbbv8wcFUY",
        "colab": {
          "base_uri": "https://localhost:8080/"
        },
        "outputId": "f015c9f1-9794-4637-db33-632f25db0f7f"
      },
      "execution_count": 7,
      "outputs": [
        {
          "output_type": "stream",
          "name": "stdout",
          "text": [
            "--2022-03-11 21:09:14--  http://hgdownload.cse.ucsc.edu/goldenPath/hg19/encodeDCC/wgEncodeBroadHistone/wgEncodeBroadHistoneA549ControlDex100nmAlnRep1.bam\n",
            "Resolving hgdownload.cse.ucsc.edu (hgdownload.cse.ucsc.edu)... 128.114.119.163\n",
            "Connecting to hgdownload.cse.ucsc.edu (hgdownload.cse.ucsc.edu)|128.114.119.163|:80... connected.\n",
            "HTTP request sent, awaiting response... 200 OK\n",
            "Length: 1331192042 (1.2G) [application/octet-stream]\n",
            "Saving to: ‘Control.bam’\n",
            "\n",
            "Control.bam         100%[===================>]   1.24G  36.7MB/s    in 36s     \n",
            "\n",
            "2022-03-11 21:09:50 (35.4 MB/s) - ‘Control.bam’ saved [1331192042/1331192042]\n",
            "\n",
            "--2022-03-11 21:09:50--  http://hgdownload.cse.ucsc.edu/goldenPath/hg19/encodeDCC/wgEncodeBroadHistone/wgEncodeBroadHistoneA549H2azDex100nmAlnRep1.bam\n",
            "Resolving hgdownload.cse.ucsc.edu (hgdownload.cse.ucsc.edu)... 128.114.119.163\n",
            "Connecting to hgdownload.cse.ucsc.edu (hgdownload.cse.ucsc.edu)|128.114.119.163|:80... connected.\n",
            "HTTP request sent, awaiting response... 200 OK\n",
            "Length: 2009250335 (1.9G) [application/octet-stream]\n",
            "Saving to: ‘H2AZ.bam’\n",
            "\n",
            "H2AZ.bam            100%[===================>]   1.87G  36.7MB/s    in 53s     \n",
            "\n",
            "2022-03-11 21:10:43 (36.5 MB/s) - ‘H2AZ.bam’ saved [2009250335/2009250335]\n",
            "\n",
            "--2022-03-11 21:10:43--  http://hgdownload.cse.ucsc.edu/goldenPath/hg19/encodeDCC/wgEncodeBroadHistone/wgEncodeBroadHistoneA549H3k04me1Dex100nmAlnRep1.bam\n",
            "Resolving hgdownload.cse.ucsc.edu (hgdownload.cse.ucsc.edu)... 128.114.119.163\n",
            "Connecting to hgdownload.cse.ucsc.edu (hgdownload.cse.ucsc.edu)|128.114.119.163|:80... connected.\n",
            "HTTP request sent, awaiting response... 200 OK\n",
            "Length: 1457394253 (1.4G) [application/octet-stream]\n",
            "Saving to: ‘H3k04me1.bam’\n",
            "\n",
            "H3k04me1.bam        100%[===================>]   1.36G  38.2MB/s    in 37s     \n",
            "\n",
            "2022-03-11 21:11:20 (37.3 MB/s) - ‘H3k04me1.bam’ saved [1457394253/1457394253]\n",
            "\n",
            "--2022-03-11 21:11:21--  http://hgdownload.cse.ucsc.edu/goldenPath/hg19/encodeDCC/wgEncodeBroadHistone/wgEncodeBroadHistoneA549H3k04me2Dex100nmAlnRep1.bam\n",
            "Resolving hgdownload.cse.ucsc.edu (hgdownload.cse.ucsc.edu)... 128.114.119.163\n",
            "Connecting to hgdownload.cse.ucsc.edu (hgdownload.cse.ucsc.edu)|128.114.119.163|:80... connected.\n",
            "HTTP request sent, awaiting response... 200 OK\n",
            "Length: 1087535456 (1.0G) [application/octet-stream]\n",
            "Saving to: ‘H3k04me2.bam’\n",
            "\n",
            "H3k04me2.bam        100%[===================>]   1.01G  38.7MB/s    in 28s     \n",
            "\n",
            "2022-03-11 21:11:49 (37.0 MB/s) - ‘H3k04me2.bam’ saved [1087535456/1087535456]\n",
            "\n",
            "--2022-03-11 21:11:49--  http://hgdownload.cse.ucsc.edu/goldenPath/hg19/encodeDCC/wgEncodeBroadHistone/wgEncodeBroadHistoneA549H3k04me3Dex100nmAlnRep1.bam\n",
            "Resolving hgdownload.cse.ucsc.edu (hgdownload.cse.ucsc.edu)... 128.114.119.163\n",
            "Connecting to hgdownload.cse.ucsc.edu (hgdownload.cse.ucsc.edu)|128.114.119.163|:80... connected.\n",
            "HTTP request sent, awaiting response... 200 OK\n",
            "Length: 1107774312 (1.0G) [application/octet-stream]\n",
            "Saving to: ‘H3k04me3.bam’\n",
            "\n",
            "H3k04me3.bam        100%[===================>]   1.03G  37.2MB/s    in 29s     \n",
            "\n",
            "2022-03-11 21:12:19 (36.0 MB/s) - ‘H3k04me3.bam’ saved [1107774312/1107774312]\n",
            "\n",
            "--2022-03-11 21:12:19--  http://hgdownload.cse.ucsc.edu/goldenPath/hg19/encodeDCC/wgEncodeBroadHistone/wgEncodeBroadHistoneA549H3k09acEtoh02AlnRep1.bam\n",
            "Resolving hgdownload.cse.ucsc.edu (hgdownload.cse.ucsc.edu)... 128.114.119.163\n",
            "Connecting to hgdownload.cse.ucsc.edu (hgdownload.cse.ucsc.edu)|128.114.119.163|:80... connected.\n",
            "HTTP request sent, awaiting response... 200 OK\n",
            "Length: 1805271664 (1.7G) [application/octet-stream]\n",
            "Saving to: ‘H3k09ac.bam’\n",
            "\n",
            "H3k09ac.bam         100%[===================>]   1.68G  38.3MB/s    in 47s     \n",
            "\n",
            "2022-03-11 21:13:06 (36.5 MB/s) - ‘H3k09ac.bam’ saved [1805271664/1805271664]\n",
            "\n",
            "--2022-03-11 21:13:06--  http://hgdownload.cse.ucsc.edu/goldenPath/hg19/encodeDCC/wgEncodeBroadHistone/wgEncodeBroadHistoneA549H3k09me3Etoh02AlnRep1.bam\n",
            "Resolving hgdownload.cse.ucsc.edu (hgdownload.cse.ucsc.edu)... 128.114.119.163\n",
            "Connecting to hgdownload.cse.ucsc.edu (hgdownload.cse.ucsc.edu)|128.114.119.163|:80... connected.\n",
            "HTTP request sent, awaiting response... 200 OK\n",
            "Length: 3159610200 (2.9G) [application/octet-stream]\n",
            "Saving to: ‘H3k09me3.bam’\n",
            "\n",
            "H3k09me3.bam        100%[===================>]   2.94G  38.1MB/s    in 82s     \n",
            "\n",
            "2022-03-11 21:14:28 (37.0 MB/s) - ‘H3k09me3.bam’ saved [3159610200/3159610200]\n",
            "\n",
            "--2022-03-11 21:14:28--  http://hgdownload.cse.ucsc.edu/goldenPath/hg19/encodeDCC/wgEncodeBroadHistone/wgEncodeBroadHistoneA549H3k27acDex100nmAlnRep1.bam\n",
            "Resolving hgdownload.cse.ucsc.edu (hgdownload.cse.ucsc.edu)... 128.114.119.163\n",
            "Connecting to hgdownload.cse.ucsc.edu (hgdownload.cse.ucsc.edu)|128.114.119.163|:80... connected.\n",
            "HTTP request sent, awaiting response... 200 OK\n",
            "Length: 1613138298 (1.5G) [application/octet-stream]\n",
            "Saving to: ‘H3k27ac.bam’\n",
            "\n",
            "H3k27ac.bam         100%[===================>]   1.50G  38.2MB/s    in 42s     \n",
            "\n",
            "2022-03-11 21:15:10 (36.9 MB/s) - ‘H3k27ac.bam’ saved [1613138298/1613138298]\n",
            "\n",
            "--2022-03-11 21:15:10--  http://hgdownload.cse.ucsc.edu/goldenPath/hg19/encodeDCC/wgEncodeBroadHistone/wgEncodeBroadHistoneA549H3k27me3Dex100nmAlnRep1.bam\n",
            "Resolving hgdownload.cse.ucsc.edu (hgdownload.cse.ucsc.edu)... 128.114.119.163\n",
            "Connecting to hgdownload.cse.ucsc.edu (hgdownload.cse.ucsc.edu)|128.114.119.163|:80... connected.\n",
            "HTTP request sent, awaiting response... 200 OK\n",
            "Length: 1204886525 (1.1G) [application/octet-stream]\n",
            "Saving to: ‘H3k27me3.bam’\n",
            "\n",
            "H3k27me3.bam        100%[===================>]   1.12G  38.7MB/s    in 31s     \n",
            "\n",
            "2022-03-11 21:15:42 (36.7 MB/s) - ‘H3k27me3.bam’ saved [1204886525/1204886525]\n",
            "\n",
            "--2022-03-11 21:15:42--  http://hgdownload.cse.ucsc.edu/goldenPath/hg19/encodeDCC/wgEncodeBroadHistone/wgEncodeBroadHistoneA549H3k36me3Dex100nmAlnRep1.bam\n",
            "Resolving hgdownload.cse.ucsc.edu (hgdownload.cse.ucsc.edu)... 128.114.119.163\n",
            "Connecting to hgdownload.cse.ucsc.edu (hgdownload.cse.ucsc.edu)|128.114.119.163|:80... connected.\n",
            "HTTP request sent, awaiting response... 200 OK\n",
            "Length: 1171206285 (1.1G) [application/octet-stream]\n",
            "Saving to: ‘H3k36me3.bam’\n",
            "\n",
            "H3k36me3.bam        100%[===================>]   1.09G  8.66MB/s    in 2m 15s  \n",
            "\n",
            "2022-03-11 21:17:57 (8.30 MB/s) - ‘H3k36me3.bam’ saved [1171206285/1171206285]\n",
            "\n",
            "--2022-03-11 21:17:57--  http://hgdownload.cse.ucsc.edu/goldenPath/hg19/encodeDCC/wgEncodeBroadHistone/wgEncodeBroadHistoneA549H3k79me2Dex100nmAlnRep1.bam\n",
            "Resolving hgdownload.cse.ucsc.edu (hgdownload.cse.ucsc.edu)... 128.114.119.163\n",
            "Connecting to hgdownload.cse.ucsc.edu (hgdownload.cse.ucsc.edu)|128.114.119.163|:80... connected.\n",
            "HTTP request sent, awaiting response... 200 OK\n",
            "Length: 964729136 (920M) [application/octet-stream]\n",
            "Saving to: ‘H3k79me2.bam’\n",
            "\n",
            "H3k79me2.bam        100%[===================>] 920.04M  37.6MB/s    in 27s     \n",
            "\n",
            "2022-03-11 21:18:24 (34.1 MB/s) - ‘H3k79me2.bam’ saved [964729136/964729136]\n",
            "\n",
            "--2022-03-11 21:18:24--  http://hgdownload.cse.ucsc.edu/goldenPath/hg19/encodeDCC/wgEncodeBroadHistone/wgEncodeBroadHistoneA549H4k20me1Etoh02AlnRep1.bam\n",
            "Resolving hgdownload.cse.ucsc.edu (hgdownload.cse.ucsc.edu)... 128.114.119.163\n",
            "Connecting to hgdownload.cse.ucsc.edu (hgdownload.cse.ucsc.edu)|128.114.119.163|:80... connected.\n",
            "HTTP request sent, awaiting response... 200 OK\n",
            "Length: 1494698977 (1.4G) [application/octet-stream]\n",
            "Saving to: ‘H4k20me1.bam’\n",
            "\n",
            "H4k20me1.bam        100%[===================>]   1.39G  36.5MB/s    in 39s     \n",
            "\n",
            "2022-03-11 21:19:04 (36.6 MB/s) - ‘H4k20me1.bam’ saved [1494698977/1494698977]\n",
            "\n"
          ]
        }
      ]
    },
    {
      "cell_type": "markdown",
      "source": [
        "# Обработка файлов"
      ],
      "metadata": {
        "id": "X_2zSiqK3tUM"
      }
    },
    {
      "cell_type": "code",
      "source": [
        "!java -mx5000M -jar /content/ChromHMM/ChromHMM.jar BinarizeBam -b 200  /content/ChromHMM/CHROMSIZES/hg19.txt /content/ cellmarkfiletable.txt   binarizedData"
      ],
      "metadata": {
        "colab": {
          "base_uri": "https://localhost:8080/"
        },
        "id": "GcVBvuQZfzb8",
        "outputId": "e3dfa9c7-89b1-4598-f73e-c686ad34cc6b"
      },
      "execution_count": 9,
      "outputs": [
        {
          "output_type": "stream",
          "name": "stdout",
          "text": [
            "Writing to file binarizedData/A549_chr1_binary.txt\n",
            "Writing to file binarizedData/A549_chr2_binary.txt\n",
            "Writing to file binarizedData/A549_chr3_binary.txt\n",
            "Writing to file binarizedData/A549_chr4_binary.txt\n",
            "Writing to file binarizedData/A549_chr5_binary.txt\n",
            "Writing to file binarizedData/A549_chr6_binary.txt\n",
            "Writing to file binarizedData/A549_chr7_binary.txt\n",
            "Writing to file binarizedData/A549_chrX_binary.txt\n",
            "Writing to file binarizedData/A549_chr8_binary.txt\n",
            "Writing to file binarizedData/A549_chr9_binary.txt\n",
            "Writing to file binarizedData/A549_chr10_binary.txt\n",
            "Writing to file binarizedData/A549_chr11_binary.txt\n",
            "Writing to file binarizedData/A549_chr12_binary.txt\n",
            "Writing to file binarizedData/A549_chr13_binary.txt\n",
            "Writing to file binarizedData/A549_chr14_binary.txt\n",
            "Writing to file binarizedData/A549_chr15_binary.txt\n",
            "Writing to file binarizedData/A549_chr16_binary.txt\n",
            "Writing to file binarizedData/A549_chr17_binary.txt\n",
            "Writing to file binarizedData/A549_chr18_binary.txt\n",
            "Writing to file binarizedData/A549_chr20_binary.txt\n",
            "Writing to file binarizedData/A549_chrY_binary.txt\n",
            "Writing to file binarizedData/A549_chr19_binary.txt\n",
            "Writing to file binarizedData/A549_chr22_binary.txt\n",
            "Writing to file binarizedData/A549_chr21_binary.txt\n",
            "Writing to file binarizedData/A549_chrM_binary.txt\n"
          ]
        }
      ]
    },
    {
      "cell_type": "code",
      "source": [
        "!java -mx5000M -jar /content/ChromHMM/ChromHMM.jar LearnModel -b 200 /content/binarizedData results 8 hg19"
      ],
      "metadata": {
        "colab": {
          "base_uri": "https://localhost:8080/"
        },
        "id": "V3x0BL5A4JC2",
        "outputId": "d0b09440-64dd-4d93-a83f-c017fbd6c7d7"
      },
      "execution_count": 11,
      "outputs": [
        {
          "output_type": "stream",
          "name": "stdout",
          "text": [
            "Writing to file results/transitions_8.txt\n",
            "Writing to file results/emissions_8.txt\n",
            "Writing to file results/emissions_8.svg\n",
            "Writing to file results/emissions_8.png\n",
            "Writing to file results/transitions_8.png\n",
            "Writing to file results/transitions_8.svg\n",
            "Writing to file results/model_8.txt\n",
            " Iteration  Estimated Log Likelihood     Change    Total Time (secs)\n",
            "         1             -13927934.580          -                 14.5\n",
            "         2             -11997588.865 1930345.715                 24.3\n",
            "         3             -11546988.143 450600.722                 32.1\n",
            "         4             -11302695.957 244292.186                 39.7\n",
            "         5             -11175511.413 127184.544                 47.1\n",
            "         6             -11107493.354  68018.059                 57.1\n",
            "         7             -11058826.880  48666.474                 65.8\n",
            "         8             -11035559.763  23267.117                 74.5\n",
            "         9             -11029557.942   6001.821                 83.2\n",
            "        10             -11027881.074   1676.868                 92.1\n",
            "        11             -11027399.852    481.222                101.0\n",
            "        12             -11027240.191    159.662                109.9\n",
            "        13             -11027176.052     64.138                118.7\n",
            "        14             -11027146.418     29.634                127.6\n",
            "        15             -11027131.564     14.854                136.4\n",
            "        16             -11027123.750      7.815                145.1\n",
            "        17             -11027119.470      4.280                153.9\n",
            "        18             -11027117.026      2.444                162.7\n",
            "        19             -11027115.578      1.448                171.4\n",
            "        20             -11027114.692      0.886                180.2\n",
            "        21             -11027114.136      0.556                189.1\n",
            "        22             -11027113.781      0.355                197.9\n",
            "        23             -11027113.551      0.230                206.6\n",
            "        24             -11027113.401      0.150                215.4\n",
            "        25             -11027113.301      0.099                224.1\n",
            "        26             -11027113.236      0.066                232.9\n",
            "        27             -11027113.192      0.044                241.6\n",
            "        28             -11027113.163      0.029                250.4\n",
            "        29             -11027113.143      0.020                259.1\n",
            "        30             -11027113.130      0.013                267.9\n",
            "        31             -11027113.121      0.009                276.7\n",
            "        32             -11027113.116      0.006                285.5\n",
            "        33             -11027113.111      0.004                294.2\n",
            "        34             -11027113.109      0.003                303.1\n",
            "        35             -11027113.107      0.002                311.8\n",
            "        36             -11027113.106      0.001                320.5\n",
            "        37             -11027113.105      0.001                329.3\n",
            "Writing to file results/A549_8_segments.bed\n",
            "Writing to file results/A549_8_dense.bed\n",
            "Writing to file results/A549_8_expanded.bed\n",
            "Writing to file results/A549_8_overlap.txt\n",
            "Writing to file results/A549_8_overlap.png\n",
            "Writing to file results/A549_8_overlap.svg\n",
            "Writing to file results/A549_8_RefSeqTES_neighborhood.txt\n",
            "Writing to file results/A549_8_RefSeqTES_neighborhood.png\n",
            "Writing to file results/A549_8_RefSeqTES_neighborhood.svg\n",
            "Writing to file results/A549_8_RefSeqTSS_neighborhood.txt\n",
            "Writing to file results/A549_8_RefSeqTSS_neighborhood.png\n",
            "Writing to file results/A549_8_RefSeqTSS_neighborhood.svg\n",
            "Warning could not automatically open in a browser results/webpage_8.html\n"
          ]
        }
      ]
    },
    {
      "cell_type": "code",
      "source": [
        "!java -mx5000M -jar /content/ChromHMM/ChromHMM.jar LearnModel -b 200 /content/binarizedData results12 12 hg19"
      ],
      "metadata": {
        "colab": {
          "base_uri": "https://localhost:8080/"
        },
        "outputId": "16d643c0-8e85-4db7-ce19-614d73b667cf",
        "id": "WFhiJOa2-HV_"
      },
      "execution_count": 12,
      "outputs": [
        {
          "output_type": "stream",
          "name": "stdout",
          "text": [
            "Writing to file results12/transitions_12.txt\n",
            "Writing to file results12/emissions_12.txt\n",
            "Writing to file results12/emissions_12.svg\n",
            "Writing to file results12/emissions_12.png\n",
            "Writing to file results12/transitions_12.png\n",
            "Writing to file results12/transitions_12.svg\n",
            "Writing to file results12/model_12.txt\n",
            " Iteration  Estimated Log Likelihood     Change    Total Time (secs)\n",
            "         1             -13497567.208          -                 17.9\n",
            "         2             -11607286.764 1890280.444                 35.6\n",
            "         3             -11075132.778 532153.986                 49.4\n",
            "         4             -10764152.421 310980.357                 70.0\n",
            "         5             -10612513.114 151639.307                 83.5\n",
            "         6             -10571993.031  40520.083                 96.9\n",
            "         7             -10560331.066  11661.964                110.3\n",
            "         8             -10556218.043   4113.024                128.4\n",
            "         9             -10554549.625   1668.418                148.5\n",
            "        10             -10553780.970    768.654                161.9\n",
            "        11             -10553379.570    401.400                175.3\n",
            "        12             -10553143.184    236.386                188.8\n",
            "        13             -10552988.708    154.476                202.2\n",
            "        14             -10552878.796    109.912                215.5\n",
            "        15             -10552794.958     83.838                229.2\n",
            "        16             -10552727.190     67.768                242.6\n",
            "        17             -10552669.866     57.324                256.0\n",
            "        18             -10552619.473     50.393                269.3\n",
            "        19             -10552573.459     46.014                282.7\n",
            "        20             -10552529.620     43.840                296.0\n",
            "        21             -10552486.094     43.525                309.3\n",
            "        22             -10552441.308     44.786                322.8\n",
            "        23             -10552394.439     46.869                336.1\n",
            "        24             -10552345.128     49.311                349.5\n",
            "        25             -10552291.706     53.423                362.8\n",
            "        26             -10552231.161     60.545                376.0\n",
            "        27             -10552159.687     71.474                389.3\n",
            "        28             -10552070.454     89.233                402.6\n",
            "        29             -10551947.960    122.494                415.9\n",
            "        30             -10551746.905    201.055                429.2\n",
            "        31             -10551408.468    338.437                442.5\n",
            "        32             -10550852.810    555.658                455.9\n",
            "        33             -10549945.902    906.908                469.1\n",
            "        34             -10548720.344   1225.558                482.5\n",
            "        35             -10547393.057   1327.287                495.8\n",
            "        36             -10546143.891   1249.166                509.1\n",
            "        37             -10545102.437   1041.455                522.4\n",
            "        38             -10544287.384    815.053                536.0\n",
            "        39             -10543653.260    634.124                549.4\n",
            "        40             -10543156.068    497.192                562.8\n",
            "        41             -10542755.388    400.680                576.3\n",
            "        42             -10542418.399    336.989                589.8\n",
            "        43             -10542121.141    297.258                603.2\n",
            "        44             -10541847.176    273.965                616.6\n",
            "        45             -10541585.203    261.973                629.9\n",
            "        46             -10541327.757    257.446                643.3\n",
            "        47             -10541069.527    258.230                656.6\n",
            "        48             -10540799.596    269.931                670.2\n",
            "        49             -10540491.005    308.591                683.5\n",
            "        50             -10540110.949    380.056                696.8\n",
            "        51             -10539639.968    470.982                710.3\n",
            "        52             -10539098.949    541.018                723.7\n",
            "        53             -10538587.106    511.843                737.1\n",
            "        54             -10538176.107    410.999                750.5\n",
            "        55             -10537798.925    377.182                763.9\n",
            "        56             -10537327.336    471.589                777.2\n",
            "        57             -10536577.589    749.747                790.5\n",
            "        58             -10535168.137   1409.452                803.9\n",
            "        59             -10532660.437   2507.701                817.2\n",
            "        60             -10530379.033   2281.403                830.6\n",
            "        61             -10529676.334    702.699                844.1\n",
            "        62             -10529499.299    177.035                857.5\n",
            "        63             -10529433.563     65.736                870.9\n",
            "        64             -10529404.041     29.522                884.3\n",
            "        65             -10529389.107     14.934                897.7\n",
            "        66             -10529380.881      8.226                911.1\n",
            "        67             -10529376.064      4.818                924.4\n",
            "        68             -10529373.113      2.951                937.6\n",
            "        69             -10529371.243      1.870                950.8\n",
            "        70             -10529370.022      1.221                964.0\n",
            "        71             -10529369.207      0.815                977.5\n",
            "        72             -10529368.650      0.557                990.8\n",
            "        73             -10529368.261      0.389               1004.0\n",
            "        74             -10529367.983      0.278               1017.3\n",
            "        75             -10529367.781      0.201               1030.5\n",
            "        76             -10529367.633      0.148               1043.8\n",
            "        77             -10529367.522      0.111               1057.0\n",
            "        78             -10529367.439      0.084               1070.4\n",
            "        79             -10529367.375      0.064               1083.9\n",
            "        80             -10529367.326      0.049               1097.1\n",
            "        81             -10529367.289      0.037               1110.3\n",
            "        82             -10529367.260      0.029               1123.7\n",
            "        83             -10529367.237      0.022               1137.0\n",
            "        84             -10529367.220      0.017               1150.3\n",
            "        85             -10529367.207      0.013               1163.7\n",
            "        86             -10529367.196      0.011               1177.0\n",
            "        87             -10529367.188      0.008               1190.3\n",
            "        88             -10529367.182      0.006               1203.6\n",
            "        89             -10529367.177      0.005               1216.9\n",
            "        90             -10529367.173      0.004               1230.2\n",
            "        91             -10529367.170      0.003               1243.5\n",
            "        92             -10529367.167      0.002               1256.8\n",
            "        93             -10529367.165      0.002               1270.0\n",
            "        94             -10529367.164      0.002               1283.3\n",
            "        95             -10529367.163      0.001               1296.6\n",
            "        96             -10529367.162      0.001               1309.9\n",
            "        97             -10529367.161      0.001               1323.3\n",
            "Writing to file results12/A549_12_segments.bed\n",
            "Writing to file results12/A549_12_dense.bed\n",
            "Writing to file results12/A549_12_expanded.bed\n",
            "Writing to file results12/A549_12_overlap.txt\n",
            "Writing to file results12/A549_12_overlap.png\n",
            "Writing to file results12/A549_12_overlap.svg\n",
            "Writing to file results12/A549_12_RefSeqTES_neighborhood.txt\n",
            "Writing to file results12/A549_12_RefSeqTES_neighborhood.png\n",
            "Writing to file results12/A549_12_RefSeqTES_neighborhood.svg\n",
            "Writing to file results12/A549_12_RefSeqTSS_neighborhood.txt\n",
            "Writing to file results12/A549_12_RefSeqTSS_neighborhood.png\n",
            "Writing to file results12/A549_12_RefSeqTSS_neighborhood.svg\n",
            "Warning could not automatically open in a browser results12/webpage_12.html\n"
          ]
        }
      ]
    }
  ]
}